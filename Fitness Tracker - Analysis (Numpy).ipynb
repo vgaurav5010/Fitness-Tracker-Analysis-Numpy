{
 "cells": [
  {
   "cell_type": "code",
   "execution_count": 3,
   "id": "daec7a62",
   "metadata": {},
   "outputs": [],
   "source": [
    "import numpy as np"
   ]
  },
  {
   "cell_type": "markdown",
   "id": "5280666a",
   "metadata": {},
   "source": [
    "## Importing the data"
   ]
  },
  {
   "cell_type": "code",
   "execution_count": 14,
   "id": "312d04bc",
   "metadata": {},
   "outputs": [
    {
     "name": "stderr",
     "output_type": "stream",
     "text": [
      "Downloading...\n",
      "From: https://drive.google.com/uc?id=1kXqcJo4YzmwF1G2BPoA17CI49TZVHANF\n",
      "To: C:\\Users\\vgaur\\Desktop\\DSML\\GIT\\Indeed Interview Qns Analysis\\fitness.txt\n",
      "\n",
      "  0%|          | 0.00/3.14k [00:00<?, ?B/s]\n",
      "100%|##########| 3.14k/3.14k [00:00<?, ?B/s]\n"
     ]
    }
   ],
   "source": [
    "!gdown 1kXqcJo4YzmwF1G2BPoA17CI49TZVHANF"
   ]
  },
  {
   "cell_type": "code",
   "execution_count": 30,
   "id": "7194f5f6",
   "metadata": {},
   "outputs": [],
   "source": [
    "data=np.loadtxt(\"fitness.txt\",dtype='str')"
   ]
  },
  {
   "cell_type": "markdown",
   "id": "3ce955d0",
   "metadata": {},
   "source": [
    "## Basic analysis"
   ]
  },
  {
   "cell_type": "code",
   "execution_count": 31,
   "id": "5c3d7850",
   "metadata": {},
   "outputs": [
    {
     "data": {
      "text/plain": [
       "array([['06-10-2017', '5464', '200', '181', '5', '0', '66'],\n",
       "       ['07-10-2017', '6041', '100', '197', '8', '0', '66'],\n",
       "       ['08-10-2017', '25', '100', '0', '5', '0', '66'],\n",
       "       ['09-10-2017', '5461', '100', '174', '4', '0', '66'],\n",
       "       ['10-10-2017', '6915', '200', '223', '5', '500', '66'],\n",
       "       ['11-10-2017', '4545', '100', '149', '6', '0', '66'],\n",
       "       ['12-10-2017', '4340', '100', '140', '6', '0', '66'],\n",
       "       ['13-10-2017', '1230', '100', '38', '7', '0', '66'],\n",
       "       ['14-10-2017', '61', '100', '1', '5', '0', '66'],\n",
       "       ['15-10-2017', '1258', '100', '40', '6', '0', '65']], dtype='<U10')"
      ]
     },
     "execution_count": 31,
     "metadata": {},
     "output_type": "execute_result"
    }
   ],
   "source": [
    "data[:10]"
   ]
  },
  {
   "cell_type": "code",
   "execution_count": 32,
   "id": "1b9f900f",
   "metadata": {},
   "outputs": [
    {
     "data": {
      "text/plain": [
       "(96, 7)"
      ]
     },
     "execution_count": 32,
     "metadata": {},
     "output_type": "execute_result"
    }
   ],
   "source": [
    "data.shape"
   ]
  },
  {
   "cell_type": "markdown",
   "id": "b7f0766f",
   "metadata": {},
   "source": [
    "There are 96 records and each record has 7 features.\n",
    "These features are:\n",
    "- Date\n",
    "- Step count\n",
    "- Mood\n",
    "- Calories Burned\n",
    "- Hours of sleep\n",
    "- activity status\n",
    "- weight "
   ]
  },
  {
   "cell_type": "code",
   "execution_count": 33,
   "id": "0c32890e",
   "metadata": {},
   "outputs": [
    {
     "data": {
      "text/plain": [
       "array(['06-10-2017', '5464', '200', '181', '5', '0', '66'], dtype='<U10')"
      ]
     },
     "execution_count": 33,
     "metadata": {},
     "output_type": "execute_result"
    }
   ],
   "source": [
    "data[0]"
   ]
  },
  {
   "cell_type": "markdown",
   "id": "46e06e08",
   "metadata": {},
   "source": [
    "- Each row contain every category of data, so we need to transpose it to get the all the features seperate in different variables."
   ]
  },
  {
   "cell_type": "code",
   "execution_count": 34,
   "id": "ad992a4a",
   "metadata": {},
   "outputs": [],
   "source": [
    "data=data.T"
   ]
  },
  {
   "cell_type": "code",
   "execution_count": 35,
   "id": "3f4a3c09",
   "metadata": {},
   "outputs": [],
   "source": [
    "#Now, the first column contains date, then step_count, etc. likewise.\n",
    "date, step_count, mood, calories, sleep, activity, weight = data"
   ]
  },
  {
   "cell_type": "code",
   "execution_count": 36,
   "id": "3f988a20",
   "metadata": {},
   "outputs": [
    {
     "data": {
      "text/plain": [
       "array(['06-10-2017', '07-10-2017', '08-10-2017', '09-10-2017',\n",
       "       '10-10-2017', '11-10-2017', '12-10-2017', '13-10-2017',\n",
       "       '14-10-2017', '15-10-2017', '16-10-2017', '17-10-2017',\n",
       "       '18-10-2017', '19-10-2017', '20-10-2017', '21-10-2017',\n",
       "       '22-10-2017', '23-10-2017', '24-10-2017', '25-10-2017',\n",
       "       '26-10-2017', '27-10-2017', '28-10-2017', '29-10-2017',\n",
       "       '30-10-2017', '31-10-2017', '01-11-2017', '02-11-2017',\n",
       "       '03-11-2017', '04-11-2017', '05-11-2017', '06-11-2017',\n",
       "       '07-11-2017', '08-11-2017', '09-11-2017', '10-11-2017',\n",
       "       '11-11-2017', '12-11-2017', '13-11-2017', '14-11-2017',\n",
       "       '15-11-2017', '16-11-2017', '17-11-2017', '18-11-2017',\n",
       "       '19-11-2017', '20-11-2017', '21-11-2017', '22-11-2017',\n",
       "       '23-11-2017', '24-11-2017', '25-11-2017', '26-11-2017',\n",
       "       '27-11-2017', '28-11-2017', '29-11-2017', '30-11-2017',\n",
       "       '01-12-2017', '02-12-2017', '03-12-2017', '04-12-2017',\n",
       "       '05-12-2017', '06-12-2017', '07-12-2017', '08-12-2017',\n",
       "       '09-12-2017', '10-12-2017', '11-12-2017', '12-12-2017',\n",
       "       '13-12-2017', '14-12-2017', '15-12-2017', '16-12-2017',\n",
       "       '17-12-2017', '18-12-2017', '19-12-2017', '20-12-2017',\n",
       "       '21-12-2017', '22-12-2017', '23-12-2017', '24-12-2017',\n",
       "       '25-12-2017', '26-12-2017', '27-12-2017', '28-12-2017',\n",
       "       '29-12-2017', '30-12-2017', '31-12-2017', '01-01-2018',\n",
       "       '02-01-2018', '03-01-2018', '04-01-2018', '05-01-2018',\n",
       "       '06-01-2018', '07-01-2018', '08-01-2018', '09-01-2018'],\n",
       "      dtype='<U10')"
      ]
     },
     "execution_count": 36,
     "metadata": {},
     "output_type": "execute_result"
    }
   ],
   "source": [
    "date"
   ]
  },
  {
   "cell_type": "code",
   "execution_count": 37,
   "id": "b58161de",
   "metadata": {},
   "outputs": [
    {
     "data": {
      "text/plain": [
       "array(['5464', '6041', '25', '5461', '6915', '4545', '4340', '1230', '61',\n",
       "       '1258', '3148', '4687', '4732', '3519', '1580', '2822', '181',\n",
       "       '3158', '4383', '3881', '4037', '202', '292', '330', '2209',\n",
       "       '4550', '4435', '4779', '1831', '2255', '539', '5464', '6041',\n",
       "       '4068', '4683', '4033', '6314', '614', '3149', '4005', '4880',\n",
       "       '4136', '705', '570', '269', '4275', '5999', '4421', '6930',\n",
       "       '5195', '546', '493', '995', '1163', '6676', '3608', '774', '1421',\n",
       "       '4064', '2725', '5934', '1867', '3721', '2374', '2909', '1648',\n",
       "       '799', '7102', '3941', '7422', '437', '1231', '1696', '4921',\n",
       "       '221', '6500', '3575', '4061', '651', '753', '518', '5537', '4108',\n",
       "       '5376', '3066', '177', '36', '299', '1447', '2599', '702', '133',\n",
       "       '153', '500', '2127', '2203'], dtype='<U10')"
      ]
     },
     "execution_count": 37,
     "metadata": {},
     "output_type": "execute_result"
    }
   ],
   "source": [
    "step_count"
   ]
  },
  {
   "cell_type": "markdown",
   "id": "d49fa40b",
   "metadata": {},
   "source": [
    "#### Changing the datatypes of numerical features into int"
   ]
  },
  {
   "cell_type": "code",
   "execution_count": 38,
   "id": "9d410b65",
   "metadata": {},
   "outputs": [],
   "source": [
    "step_count=np.array(step_count,dtype='int')\n",
    "calories=np.array(calories,dtype='int')\n",
    "sleep=np.array(sleep,dtype='int')\n",
    "weight=np.array(weight,'int')"
   ]
  },
  {
   "cell_type": "markdown",
   "id": "73201b78",
   "metadata": {},
   "source": [
    "#### Changing the date : str to datetime"
   ]
  },
  {
   "cell_type": "code",
   "execution_count": null,
   "id": "e6360f06",
   "metadata": {},
   "outputs": [],
   "source": [
    "from datetime import datetime"
   ]
  },
  {
   "cell_type": "code",
   "execution_count": 93,
   "id": "6645772f",
   "metadata": {},
   "outputs": [],
   "source": [
    "lst=list(date)\n",
    "date_obj=[]\n",
    "wday=[]"
   ]
  },
  {
   "cell_type": "code",
   "execution_count": 94,
   "id": "dbe3b0d4",
   "metadata": {},
   "outputs": [],
   "source": [
    "def w(day):\n",
    "    w=['Sunday','Monday','Tuesday','Wednesday','Thursday','Friday','Saturday']\n",
    "    x=w[day]\n",
    "    return x"
   ]
  },
  {
   "cell_type": "code",
   "execution_count": 95,
   "id": "8965e9a4",
   "metadata": {},
   "outputs": [
    {
     "name": "stdout",
     "output_type": "stream",
     "text": [
      "96 96\n",
      "96 96\n"
     ]
    }
   ],
   "source": [
    "for i in lst:\n",
    "    date_temp=datetime.strptime(i,'%d-%m-%Y')\n",
    "    date_obj.append(date_temp.date())\n",
    "    wday.append(w(date_temp.weekday()))\n",
    "\n",
    "day_of_week=np.array(wday)\n",
    "date_obj=np.array(date_obj)\n"
   ]
  },
  {
   "cell_type": "code",
   "execution_count": 98,
   "id": "04908d33",
   "metadata": {},
   "outputs": [
    {
     "data": {
      "text/plain": [
       "array(['Thursday', 'Friday', 'Saturday', 'Sunday', 'Monday', 'Tuesday',\n",
       "       'Wednesday', 'Thursday', 'Friday', 'Saturday', 'Sunday', 'Monday',\n",
       "       'Tuesday', 'Wednesday', 'Thursday', 'Friday', 'Saturday', 'Sunday',\n",
       "       'Monday', 'Tuesday', 'Wednesday', 'Thursday', 'Friday', 'Saturday',\n",
       "       'Sunday', 'Monday', 'Tuesday', 'Wednesday', 'Thursday', 'Friday',\n",
       "       'Saturday', 'Sunday', 'Monday', 'Tuesday', 'Wednesday', 'Thursday',\n",
       "       'Friday', 'Saturday', 'Sunday', 'Monday', 'Tuesday', 'Wednesday',\n",
       "       'Thursday', 'Friday', 'Saturday', 'Sunday', 'Monday', 'Tuesday',\n",
       "       'Wednesday', 'Thursday', 'Friday', 'Saturday', 'Sunday', 'Monday',\n",
       "       'Tuesday', 'Wednesday', 'Thursday', 'Friday', 'Saturday', 'Sunday',\n",
       "       'Monday', 'Tuesday', 'Wednesday', 'Thursday', 'Friday', 'Saturday',\n",
       "       'Sunday', 'Monday', 'Tuesday', 'Wednesday', 'Thursday', 'Friday',\n",
       "       'Saturday', 'Sunday', 'Monday', 'Tuesday', 'Wednesday', 'Thursday',\n",
       "       'Friday', 'Saturday', 'Sunday', 'Monday', 'Tuesday', 'Wednesday',\n",
       "       'Thursday', 'Friday', 'Saturday', 'Sunday', 'Monday', 'Tuesday',\n",
       "       'Wednesday', 'Thursday', 'Friday', 'Saturday', 'Sunday', 'Monday'],\n",
       "      dtype='<U9')"
      ]
     },
     "execution_count": 98,
     "metadata": {},
     "output_type": "execute_result"
    }
   ],
   "source": [
    "day_of_week"
   ]
  },
  {
   "cell_type": "code",
   "execution_count": 99,
   "id": "804c1815",
   "metadata": {},
   "outputs": [
    {
     "data": {
      "text/plain": [
       "array([datetime.date(2017, 10, 6), datetime.date(2017, 10, 7),\n",
       "       datetime.date(2017, 10, 8), datetime.date(2017, 10, 9),\n",
       "       datetime.date(2017, 10, 10)], dtype=object)"
      ]
     },
     "execution_count": 99,
     "metadata": {},
     "output_type": "execute_result"
    }
   ],
   "source": [
    "date_obj[:5]"
   ]
  },
  {
   "cell_type": "code",
   "execution_count": 100,
   "id": "782ea8d2",
   "metadata": {
    "scrolled": true
   },
   "outputs": [
    {
     "data": {
      "text/plain": [
       "(array(['Friday', 'Monday', 'Saturday', 'Sunday', 'Thursday', 'Tuesday',\n",
       "        'Wednesday'], dtype='<U9'),\n",
       " array([14, 14, 14, 14, 14, 13, 13], dtype=int64))"
      ]
     },
     "execution_count": 100,
     "metadata": {},
     "output_type": "execute_result"
    }
   ],
   "source": [
    "np.unique(day_of_week,return_counts=True)"
   ]
  },
  {
   "cell_type": "code",
   "execution_count": 101,
   "id": "fbabbaaa",
   "metadata": {},
   "outputs": [
    {
     "data": {
      "text/plain": [
       "(array([datetime.date(2017, 10, 6), datetime.date(2017, 10, 7),\n",
       "        datetime.date(2017, 10, 8), datetime.date(2017, 10, 9),\n",
       "        datetime.date(2017, 10, 10), datetime.date(2017, 10, 11),\n",
       "        datetime.date(2017, 10, 12), datetime.date(2017, 10, 13),\n",
       "        datetime.date(2017, 10, 14), datetime.date(2017, 10, 15),\n",
       "        datetime.date(2017, 10, 16), datetime.date(2017, 10, 17),\n",
       "        datetime.date(2017, 10, 18), datetime.date(2017, 10, 19),\n",
       "        datetime.date(2017, 10, 20), datetime.date(2017, 10, 21),\n",
       "        datetime.date(2017, 10, 22), datetime.date(2017, 10, 23),\n",
       "        datetime.date(2017, 10, 24), datetime.date(2017, 10, 25),\n",
       "        datetime.date(2017, 10, 26), datetime.date(2017, 10, 27),\n",
       "        datetime.date(2017, 10, 28), datetime.date(2017, 10, 29),\n",
       "        datetime.date(2017, 10, 30), datetime.date(2017, 10, 31),\n",
       "        datetime.date(2017, 11, 1), datetime.date(2017, 11, 2),\n",
       "        datetime.date(2017, 11, 3), datetime.date(2017, 11, 4),\n",
       "        datetime.date(2017, 11, 5), datetime.date(2017, 11, 6),\n",
       "        datetime.date(2017, 11, 7), datetime.date(2017, 11, 8),\n",
       "        datetime.date(2017, 11, 9), datetime.date(2017, 11, 10),\n",
       "        datetime.date(2017, 11, 11), datetime.date(2017, 11, 12),\n",
       "        datetime.date(2017, 11, 13), datetime.date(2017, 11, 14),\n",
       "        datetime.date(2017, 11, 15), datetime.date(2017, 11, 16),\n",
       "        datetime.date(2017, 11, 17), datetime.date(2017, 11, 18),\n",
       "        datetime.date(2017, 11, 19), datetime.date(2017, 11, 20),\n",
       "        datetime.date(2017, 11, 21), datetime.date(2017, 11, 22),\n",
       "        datetime.date(2017, 11, 23), datetime.date(2017, 11, 24),\n",
       "        datetime.date(2017, 11, 25), datetime.date(2017, 11, 26),\n",
       "        datetime.date(2017, 11, 27), datetime.date(2017, 11, 28),\n",
       "        datetime.date(2017, 11, 29), datetime.date(2017, 11, 30),\n",
       "        datetime.date(2017, 12, 1), datetime.date(2017, 12, 2),\n",
       "        datetime.date(2017, 12, 3), datetime.date(2017, 12, 4),\n",
       "        datetime.date(2017, 12, 5), datetime.date(2017, 12, 6),\n",
       "        datetime.date(2017, 12, 7), datetime.date(2017, 12, 8),\n",
       "        datetime.date(2017, 12, 9), datetime.date(2017, 12, 10),\n",
       "        datetime.date(2017, 12, 11), datetime.date(2017, 12, 12),\n",
       "        datetime.date(2017, 12, 13), datetime.date(2017, 12, 14),\n",
       "        datetime.date(2017, 12, 15), datetime.date(2017, 12, 16),\n",
       "        datetime.date(2017, 12, 17), datetime.date(2017, 12, 18),\n",
       "        datetime.date(2017, 12, 19), datetime.date(2017, 12, 20),\n",
       "        datetime.date(2017, 12, 21), datetime.date(2017, 12, 22),\n",
       "        datetime.date(2017, 12, 23), datetime.date(2017, 12, 24),\n",
       "        datetime.date(2017, 12, 25), datetime.date(2017, 12, 26),\n",
       "        datetime.date(2017, 12, 27), datetime.date(2017, 12, 28),\n",
       "        datetime.date(2017, 12, 29), datetime.date(2017, 12, 30),\n",
       "        datetime.date(2017, 12, 31), datetime.date(2018, 1, 1),\n",
       "        datetime.date(2018, 1, 2), datetime.date(2018, 1, 3),\n",
       "        datetime.date(2018, 1, 4), datetime.date(2018, 1, 5),\n",
       "        datetime.date(2018, 1, 6), datetime.date(2018, 1, 7),\n",
       "        datetime.date(2018, 1, 8), datetime.date(2018, 1, 9)], dtype=object),\n",
       " array([1, 1, 1, 1, 1, 1, 1, 1, 1, 1, 1, 1, 1, 1, 1, 1, 1, 1, 1, 1, 1, 1,\n",
       "        1, 1, 1, 1, 1, 1, 1, 1, 1, 1, 1, 1, 1, 1, 1, 1, 1, 1, 1, 1, 1, 1,\n",
       "        1, 1, 1, 1, 1, 1, 1, 1, 1, 1, 1, 1, 1, 1, 1, 1, 1, 1, 1, 1, 1, 1,\n",
       "        1, 1, 1, 1, 1, 1, 1, 1, 1, 1, 1, 1, 1, 1, 1, 1, 1, 1, 1, 1, 1, 1,\n",
       "        1, 1, 1, 1, 1, 1, 1, 1], dtype=int64))"
      ]
     },
     "execution_count": 101,
     "metadata": {},
     "output_type": "execute_result"
    }
   ],
   "source": [
    "np.unique(date_obj,return_counts=True)"
   ]
  },
  {
   "cell_type": "markdown",
   "id": "63abe4ff",
   "metadata": {},
   "source": [
    "- It means there are no duplicate days are present. (**Data is present for each day**)"
   ]
  },
  {
   "cell_type": "markdown",
   "id": "1a187dad",
   "metadata": {},
   "source": [
    "#### Converting mood and activity to categories"
   ]
  },
  {
   "cell_type": "code",
   "execution_count": 39,
   "id": "6020fe9c",
   "metadata": {},
   "outputs": [
    {
     "data": {
      "text/plain": [
       "array(['100', '200', '300'], dtype='<U10')"
      ]
     },
     "execution_count": 39,
     "metadata": {},
     "output_type": "execute_result"
    }
   ],
   "source": [
    "np.unique(mood)"
   ]
  },
  {
   "cell_type": "code",
   "execution_count": 40,
   "id": "4a00dac8",
   "metadata": {},
   "outputs": [
    {
     "data": {
      "text/plain": [
       "(array(['100', '200', '300'], dtype='<U10'), array([29, 27, 40], dtype=int64))"
      ]
     },
     "execution_count": 40,
     "metadata": {},
     "output_type": "execute_result"
    }
   ],
   "source": [
    "np.unique(mood,return_counts=True)"
   ]
  },
  {
   "cell_type": "markdown",
   "id": "aca23ab8",
   "metadata": {},
   "source": [
    "- So, there are three different moods.\n",
    "- Categorising these mood into -> **100 : Sad, 200 : Neutral, 300 : Happy**"
   ]
  },
  {
   "cell_type": "code",
   "execution_count": 42,
   "id": "d622ec54",
   "metadata": {},
   "outputs": [],
   "source": [
    "mood[mood=='100']='Sad'\n",
    "mood[mood=='200']='Neutral'\n",
    "mood[mood=='300']='Happy'"
   ]
  },
  {
   "cell_type": "code",
   "execution_count": 43,
   "id": "5c0eeb40",
   "metadata": {},
   "outputs": [
    {
     "data": {
      "text/plain": [
       "(array(['Happy', 'Neutral', 'Sad'], dtype='<U10'),\n",
       " array([40, 27, 29], dtype=int64))"
      ]
     },
     "execution_count": 43,
     "metadata": {},
     "output_type": "execute_result"
    }
   ],
   "source": [
    "np.unique(mood,return_counts=True)"
   ]
  },
  {
   "cell_type": "code",
   "execution_count": 44,
   "id": "7b08545c",
   "metadata": {},
   "outputs": [
    {
     "data": {
      "text/plain": [
       "(array(['0', '500'], dtype='<U10'), array([54, 42], dtype=int64))"
      ]
     },
     "execution_count": 44,
     "metadata": {},
     "output_type": "execute_result"
    }
   ],
   "source": [
    "np.unique(activity,return_counts=True)"
   ]
  },
  {
   "cell_type": "markdown",
   "id": "c106fb02",
   "metadata": {},
   "source": [
    "- So, there are only two activity \n",
    "- We can describe: 0 as Inactive and 500 as Active"
   ]
  },
  {
   "cell_type": "code",
   "execution_count": 45,
   "id": "ffa9619c",
   "metadata": {},
   "outputs": [],
   "source": [
    "activity[activity=='0']='Inactive'\n",
    "activity[activity=='500']='Active'"
   ]
  },
  {
   "cell_type": "code",
   "execution_count": 46,
   "id": "1ba14c34",
   "metadata": {},
   "outputs": [
    {
     "data": {
      "text/plain": [
       "(array(['Active', 'Inactive'], dtype='<U10'), array([42, 54], dtype=int64))"
      ]
     },
     "execution_count": 46,
     "metadata": {},
     "output_type": "execute_result"
    }
   ],
   "source": [
    "np.unique(activity,return_counts=True)"
   ]
  },
  {
   "cell_type": "markdown",
   "id": "00f406f8",
   "metadata": {},
   "source": [
    "## Finding Some Insights"
   ]
  },
  {
   "cell_type": "markdown",
   "id": "72697e7a",
   "metadata": {},
   "source": [
    "#### Average Step counts"
   ]
  },
  {
   "cell_type": "code",
   "execution_count": 113,
   "id": "79ce688c",
   "metadata": {},
   "outputs": [
    {
     "data": {
      "text/plain": [
       "2935.9375"
      ]
     },
     "execution_count": 113,
     "metadata": {},
     "output_type": "execute_result"
    }
   ],
   "source": [
    "np.mean(step_count)"
   ]
  },
  {
   "cell_type": "markdown",
   "id": "2fc7ffd2",
   "metadata": {},
   "source": [
    "##### Average step count on each day of the week"
   ]
  },
  {
   "cell_type": "code",
   "execution_count": 117,
   "id": "ea713852",
   "metadata": {},
   "outputs": [
    {
     "data": {
      "text/plain": [
       "2803.4285714285716"
      ]
     },
     "execution_count": 117,
     "metadata": {},
     "output_type": "execute_result"
    }
   ],
   "source": [
    "np.mean(step_count[day_of_week=='Sunday'])"
   ]
  },
  {
   "cell_type": "code",
   "execution_count": 115,
   "id": "9e9341f3",
   "metadata": {},
   "outputs": [],
   "source": [
    "w=['Sunday','Monday','Tuesday','Wednesday','Thursday','Friday','Saturday']\n",
    "mean_per_day=[]\n",
    "for i in w:\n",
    "    mean_per_day.append(np.mean(step_count[day_of_week==i]))\n",
    "mean_per_day=np.round(mean_per_day,2)"
   ]
  },
  {
   "cell_type": "code",
   "execution_count": 116,
   "id": "2a8146e7",
   "metadata": {},
   "outputs": [
    {
     "data": {
      "text/plain": [
       "array([2803.43, 4299.07, 4357.92, 4371.38, 2220.36, 1817.36,  886.14])"
      ]
     },
     "execution_count": 116,
     "metadata": {},
     "output_type": "execute_result"
    }
   ],
   "source": [
    "mean_per_day"
   ]
  },
  {
   "cell_type": "markdown",
   "id": "7b41e42d",
   "metadata": {},
   "source": [
    "- There is a increase of step_count from Sunday to Thursday and then decreaeses towards Saturday."
   ]
  },
  {
   "cell_type": "markdown",
   "id": "e2ddc06d",
   "metadata": {},
   "source": [
    "#### Max & Min Step count"
   ]
  },
  {
   "cell_type": "code",
   "execution_count": 118,
   "id": "1cc2e986",
   "metadata": {},
   "outputs": [
    {
     "data": {
      "text/plain": [
       "7422"
      ]
     },
     "execution_count": 118,
     "metadata": {},
     "output_type": "execute_result"
    }
   ],
   "source": [
    "np.max(step_count)"
   ]
  },
  {
   "cell_type": "code",
   "execution_count": 125,
   "id": "179519a9",
   "metadata": {},
   "outputs": [
    {
     "data": {
      "text/plain": [
       "array(['Wednesday'], dtype='<U9')"
      ]
     },
     "execution_count": 125,
     "metadata": {},
     "output_type": "execute_result"
    }
   ],
   "source": [
    "day_of_week[step_count==np.max(step_count)]"
   ]
  },
  {
   "cell_type": "code",
   "execution_count": 126,
   "id": "3e401668",
   "metadata": {},
   "outputs": [
    {
     "data": {
      "text/plain": [
       "25"
      ]
     },
     "execution_count": 126,
     "metadata": {},
     "output_type": "execute_result"
    }
   ],
   "source": [
    "np.min(step_count)"
   ]
  },
  {
   "cell_type": "code",
   "execution_count": 128,
   "id": "2c0c6827",
   "metadata": {},
   "outputs": [
    {
     "data": {
      "text/plain": [
       "array(['Saturday'], dtype='<U9')"
      ]
     },
     "execution_count": 128,
     "metadata": {},
     "output_type": "execute_result"
    }
   ],
   "source": [
    "day_of_week[step_count==np.min(step_count)]"
   ]
  },
  {
   "cell_type": "markdown",
   "id": "2af04cb1",
   "metadata": {},
   "source": [
    "### Relation between steps count, mood and activity"
   ]
  },
  {
   "cell_type": "markdown",
   "id": "be415c73",
   "metadata": {},
   "source": [
    "##### Step count and activity"
   ]
  },
  {
   "cell_type": "code",
   "execution_count": 130,
   "id": "eb409b23",
   "metadata": {},
   "outputs": [
    {
     "data": {
      "text/plain": [
       "2103.0689655172414"
      ]
     },
     "execution_count": 130,
     "metadata": {},
     "output_type": "execute_result"
    }
   ],
   "source": [
    "np.mean(step_count[mood=='Sad'])"
   ]
  },
  {
   "cell_type": "code",
   "execution_count": 131,
   "id": "323d6df3",
   "metadata": {},
   "outputs": [
    {
     "data": {
      "text/plain": [
       "3153.777777777778"
      ]
     },
     "execution_count": 131,
     "metadata": {},
     "output_type": "execute_result"
    }
   ],
   "source": [
    "np.mean(step_count[mood=='Neutral'])"
   ]
  },
  {
   "cell_type": "code",
   "execution_count": 132,
   "id": "7a0bb3ea",
   "metadata": {},
   "outputs": [
    {
     "data": {
      "text/plain": [
       "3392.725"
      ]
     },
     "execution_count": 132,
     "metadata": {},
     "output_type": "execute_result"
    }
   ],
   "source": [
    "np.mean(step_count[mood=='Happy'])"
   ]
  },
  {
   "cell_type": "markdown",
   "id": "22c251d8",
   "metadata": {},
   "source": [
    "- There is a **increase** in **average step count** as mood changes from Sad to Happy"
   ]
  },
  {
   "cell_type": "markdown",
   "id": "edb072d0",
   "metadata": {},
   "source": [
    "##### Step count and activity"
   ]
  },
  {
   "cell_type": "code",
   "execution_count": 133,
   "id": "7e047ed0",
   "metadata": {},
   "outputs": [
    {
     "data": {
      "text/plain": [
       "2709.8888888888887"
      ]
     },
     "execution_count": 133,
     "metadata": {},
     "output_type": "execute_result"
    }
   ],
   "source": [
    "np.mean(step_count[activity=='Inactive'])"
   ]
  },
  {
   "cell_type": "code",
   "execution_count": 134,
   "id": "529c041b",
   "metadata": {},
   "outputs": [
    {
     "data": {
      "text/plain": [
       "3226.5714285714284"
      ]
     },
     "execution_count": 134,
     "metadata": {},
     "output_type": "execute_result"
    }
   ],
   "source": [
    "np.mean(step_count[activity=='Active'])"
   ]
  },
  {
   "cell_type": "markdown",
   "id": "1e3acf6b",
   "metadata": {},
   "source": [
    "- There is a **jump in step_count Active days** as compared to Inactive days"
   ]
  },
  {
   "cell_type": "markdown",
   "id": "effacbbe",
   "metadata": {},
   "source": [
    "## Comparing the different moods for different conditions"
   ]
  },
  {
   "cell_type": "markdown",
   "id": "33dc5967",
   "metadata": {},
   "source": [
    "#### When Step_count<2000"
   ]
  },
  {
   "cell_type": "code",
   "execution_count": 142,
   "id": "bb5bbdf8",
   "metadata": {},
   "outputs": [
    {
     "data": {
      "text/plain": [
       "39"
      ]
     },
     "execution_count": 142,
     "metadata": {},
     "output_type": "execute_result"
    }
   ],
   "source": [
    "len(step_count[step_count<2000])"
   ]
  },
  {
   "cell_type": "code",
   "execution_count": 143,
   "id": "1f50b44c",
   "metadata": {},
   "outputs": [
    {
     "data": {
      "text/plain": [
       "(array(['Happy', 'Neutral', 'Sad'], dtype='<U10'),\n",
       " array([13,  8, 18], dtype=int64))"
      ]
     },
     "execution_count": 143,
     "metadata": {},
     "output_type": "execute_result"
    }
   ],
   "source": [
    "np.unique(mood[step_count<2000],return_counts=True)"
   ]
  },
  {
   "cell_type": "markdown",
   "id": "3e739c6f",
   "metadata": {},
   "source": [
    "- Out of total = 96 days, user travelled **<2000 steps** for **39 days**\n",
    "- Out of 39 days, \n",
    "1. User was **Happy** : **13 times**\n",
    "2. User was **Neutral** : **8 times**\n",
    "3. User was **Sad** : **18 times**"
   ]
  },
  {
   "cell_type": "markdown",
   "id": "b31045c6",
   "metadata": {},
   "source": [
    "#### When step_count>4000"
   ]
  },
  {
   "cell_type": "code",
   "execution_count": 144,
   "id": "393b75b4",
   "metadata": {},
   "outputs": [
    {
     "data": {
      "text/plain": [
       "38"
      ]
     },
     "execution_count": 144,
     "metadata": {},
     "output_type": "execute_result"
    }
   ],
   "source": [
    "len(step_count[step_count>4000])"
   ]
  },
  {
   "cell_type": "code",
   "execution_count": 136,
   "id": "8381f5a1",
   "metadata": {},
   "outputs": [
    {
     "data": {
      "text/plain": [
       "(array(['Happy', 'Neutral', 'Sad'], dtype='<U10'),\n",
       " array([22,  9,  7], dtype=int64))"
      ]
     },
     "execution_count": 136,
     "metadata": {},
     "output_type": "execute_result"
    }
   ],
   "source": [
    "np.unique(mood[step_count>4000],return_counts=True)"
   ]
  },
  {
   "cell_type": "markdown",
   "id": "e0e9e412",
   "metadata": {},
   "source": [
    "- Out of total = 96 days, user travelled **>4000 steps** for **38 days**\n",
    "- Out of 39 days, \n",
    "1. User was **Happy** : **22 times**\n",
    "2. User was **Neutral** : **9 times**\n",
    "3. User was **Sad** : **7 times**"
   ]
  },
  {
   "cell_type": "markdown",
   "id": "9cafd392",
   "metadata": {},
   "source": [
    "- There seems to have a relationship between **mood** and **step_count**\n",
    "- When the step_count<2000, \n",
    "            1. There are 49% of cases of mood being Sad.\n",
    "            2. There are 33% of cases of mood being Happy.\n",
    "- When the step_count>4000, \n",
    "            1. There are 59% of cases of mood being Happy.\n",
    "            2. There are 20% of cases of mood being Sad."
   ]
  },
  {
   "cell_type": "code",
   "execution_count": null,
   "id": "e3fa9587",
   "metadata": {},
   "outputs": [],
   "source": []
  },
  {
   "cell_type": "markdown",
   "id": "9dedb61c",
   "metadata": {},
   "source": [
    "# Insights"
   ]
  },
  {
   "cell_type": "markdown",
   "id": "8c5d6378",
   "metadata": {},
   "source": [
    "- There is a **increase** of step_count from **Sunday to Thursday** and then **decreaeses** towards **Saturday**.\n",
    "- In case of **low step count**, 49% of mood is **Sad**.\n",
    "- In case of **high step count**, 59% of mood is **Happy**.\n",
    "- There is a **increase** in **average step count** as mood changes from Sad to Happy"
   ]
  }
 ],
 "metadata": {
  "kernelspec": {
   "display_name": "Python 3 (ipykernel)",
   "language": "python",
   "name": "python3"
  },
  "language_info": {
   "codemirror_mode": {
    "name": "ipython",
    "version": 3
   },
   "file_extension": ".py",
   "mimetype": "text/x-python",
   "name": "python",
   "nbconvert_exporter": "python",
   "pygments_lexer": "ipython3",
   "version": "3.9.13"
  }
 },
 "nbformat": 4,
 "nbformat_minor": 5
}
